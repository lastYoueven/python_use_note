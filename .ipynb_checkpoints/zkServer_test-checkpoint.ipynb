{
 "cells": [
  {
   "cell_type": "code",
   "execution_count": 8,
   "metadata": {},
   "outputs": [
    {
     "name": "stdout",
     "output_type": "stream",
     "text": [
      "2021-02-23 09:15\n"
     ]
    }
   ],
   "source": [
    "# 开始获取当前zk链接\n",
    "import time\n",
    "from kazoo.client import KazooClient\n",
    "HOST = '172.19.216.179'\n",
    "# HOST = '172.19.216.184'\n",
    "zk = KazooClient(hosts='47.103.21.215:2181', timeout=2.0)\n",
    "# zk = KazooClient(hosts='127.0.0.1:2181', timeout=2.0)\n",
    "zk.start()\n",
    "print(time.strftime(\"%Y-%m-%d %H:%M\", time.localtime(time.time())))"
   ]
  },
  {
   "cell_type": "code",
   "execution_count": null,
   "metadata": {},
   "outputs": [],
   "source": [
    "# 查看当前任务\n",
    "from redis import StrictRedis\n",
    "REBOOT_PID_REDIS = StrictRedis().from_url(\"redis://:!!%*_Ocote@r-uf6gr7kndqhd1pljw4pd.redis.rds.aliyuncs.com:6379/255\")\n",
    "redis_tasks = REBOOT_PID_REDIS.keys(\"*:list_task\")\n",
    "for one in redis_tasks:\n",
    "    print(one)"
   ]
  },
  {
   "cell_type": "code",
   "execution_count": 13,
   "metadata": {},
   "outputs": [
    {
     "name": "stdout",
     "output_type": "stream",
     "text": [
      "\n",
      "==========172.19.216.179 服务任务 :10============\n",
      "sichuan_qca reboot: b'29711' status: b'alive'\n",
      "country_web_master reboot: b'13002' status: b'alive'\n",
      "country_company reboot: b'26724' status: b'alive'\n",
      "chihu_reboot reboot: b'22031' status: b'alive'\n",
      "weight_province_industry reboot: b'1219' status: b'alive'\n",
      "country_web_company reboot: b'13102' status: b'alive'\n",
      "sqw_company_reboot reboot: b'6176' status: b'alive'\n",
      "company_code reboot: b'22820' status: b'alive'\n",
      "hunan_qca reboot: b'11524' status: b'alive'\n",
      "registrar_4k1_reboot reboot: b'1299' status: b'alive'\n",
      "\n",
      "==========172.19.216.184 服务任务 :8============\n",
      "country_web_master reboot: b'13896' status: b'alive'\n",
      "executed_person reboot: b'13898' status: b'alive'\n",
      "country_company reboot: b'13901' status: b'alive'\n",
      "weight_province_industry reboot: b'13904' status: b'alive'\n",
      "country_web_company reboot: b'13903' status: b'alive'\n",
      "company_mapping_reboot reboot: b'13897' status: b'alive'\n",
      "break_faith_info reboot: b'13899' status: b'alive'\n",
      "registrar_4k1_reboot reboot: b'13900' status: b'alive'\n",
      "\n",
      "==========172.19.216.183 服务任务 :4============\n",
      "country_web_company reboot: b'23985' status: b'alive'\n",
      "country_web_master reboot: b'23979' status: b'alive'\n",
      "weight_province_industry reboot: b'23986' status: b'alive'\n",
      "fujian_qca reboot: b'23980' status: b'alive'\n"
     ]
    }
   ],
   "source": [
    "HOST1 = '172.19.216.179'\n",
    "HOST2 = '172.19.216.184'\n",
    "HOST3 = '172.19.216.183'\n",
    "local_task_list = zk.get_children(f'/rpc-root/host/{HOST1}/on_runing_tasks')\n",
    "\n",
    "print(\"\")\n",
    "local_reboot_list1 = zk.get_children(f'/rpc-root/host/{HOST1}/reboot')  # 获取当前任务上次开始时间点\n",
    "print(f\"=========={HOST1} 服务任务 :{len(local_reboot_list1)}============\")\n",
    "for one in local_reboot_list1:\n",
    "    time_data = zk.get(f'/rpc-root/host/{HOST1}/reboot/{one}')[0]\n",
    "    print(f\"{one} reboot: {time_data} status: {zk.get(f'/rpc-root/reboot/{one}')[0]}\")\n",
    "    \n",
    "print(f\"\")\n",
    "local_task_list1 = zk.get_children(f'/rpc-root/host/{HOST2}/on_runing_tasks')\n",
    "local_reboot_list2 = zk.get_children(f'/rpc-root/host/{HOST2}/reboot')  # 获取当前任务上次开始时间点\n",
    "print(f\"=========={HOST2} 服务任务 :{len(local_reboot_list2)}============\")\n",
    "for one in local_reboot_list2:\n",
    "    time_data = zk.get(f'/rpc-root/host/{HOST2}/reboot/{one}')[0]\n",
    "    print(f\"{one} reboot: {time_data} status: {zk.get(f'/rpc-root/reboot/{one}')[0]}\")\n",
    "    \n",
    "print(\"\")\n",
    "local_reboot_list3 = zk.get_children(f'/rpc-root/host/{HOST3}/reboot')  # 获取当前任务上次开始时间点\n",
    "print(f\"=========={HOST3} 服务任务 :{len(local_reboot_list3)}============\")\n",
    "for one in local_reboot_list3:\n",
    "    time_data = zk.get(f'/rpc-root/host/{HOST3}/reboot/{one}')[0]\n",
    "    print(f\"{one} reboot: {time_data} status: {zk.get(f'/rpc-root/reboot/{one}')[0]}\")"
   ]
  },
  {
   "cell_type": "code",
   "execution_count": null,
   "metadata": {},
   "outputs": [],
   "source": [
    "all_nodes = zk.get_children(f'/rpc-root/host/172.19.216.184')\n",
    "for one in all_nodes:\n",
    "    print(f\"{one} :> { zk.get_children(f'/rpc-root/host/172.19.216.184/{one}')}\")"
   ]
  },
  {
   "cell_type": "code",
   "execution_count": 6,
   "metadata": {},
   "outputs": [
    {
     "name": "stdout",
     "output_type": "stream",
     "text": [
      "xinjiang_qca : 1970-01-01 11:53\n"
     ]
    }
   ],
   "source": [
    "all_reboot = zk.get_children(f'/rpc-root/tasks_start_time')\n",
    "# for one in all_reboot:\n",
    "for one in ('xinjiang_qca', ):\n",
    "#     zk.set(f'/rpc-root/tasks_start_time/{one}', b'0')\n",
    "#     zk.create(f'/rpc-root/tasks_start_time/{one}', b'0')\n",
    "    print(f\"{one} : {time.strftime('%Y-%m-%d %H:%M', time.localtime(int(time_data)))}\")"
   ]
  },
  {
   "cell_type": "code",
   "execution_count": 26,
   "metadata": {},
   "outputs": [],
   "source": [
    "zk.delete(f'/rpc-root/reboot_conf_status/jiangsu_safe', recursive=True)\n",
    "# print(zk.delete(f'/rpc-root/host/172.19.216.179/on_runing_tasks/liaoning_qca', recursive=True))\n",
    "# print(zk.delete(f'/rpc-root', recursive=True))\n",
    "# zk.delete(f'/rpc-root/tasks_start_time/jiangsu_safe', recursive=True)"
   ]
  },
  {
   "cell_type": "code",
   "execution_count": 12,
   "metadata": {},
   "outputs": [
    {
     "data": {
      "text/plain": [
       "ZnodeStat(czxid=356490497607, mzxid=420907078871, ctime=1609683646464, mtime=1614044344358, version=57, cversion=0, aversion=0, ephemeralOwner=0, dataLength=1, numChildren=0, pzxid=356490497607)"
      ]
     },
     "execution_count": 12,
     "metadata": {},
     "output_type": "execute_result"
    }
   ],
   "source": [
    "now_time = time.time()\n",
    "by_time = str(int(now_time)).encode('utf-8')\n",
    "zk.set(f'/rpc-root/tasks_start_time/fujian_qca', b'0')"
   ]
  },
  {
   "cell_type": "code",
   "execution_count": null,
   "metadata": {},
   "outputs": [],
   "source": [
    "# 指定任务更新\n",
    "# LOCK_REDIS = StrictRedis().from_url(\"redis://:!!%*_Ocote@r-uf6gr7kndqhd1pljw4pd.redis.rds.aliyuncs.com:6379/240\")\n",
    "# for one in (\"guangdong_qca\", \"xizang_qca\"):\n",
    "#     REBOOT_PID_REDIS.delete(f\"lock:fill_task:{one}\")\n",
    "#     zk.set(f'/rpc-root/tasks_start_time/{one}', b'0')\n",
    "# print(\"完成\")"
   ]
  },
  {
   "cell_type": "code",
   "execution_count": 46,
   "metadata": {},
   "outputs": [
    {
     "ename": "ValueError",
     "evalue": "invalid literal for int() with base 10: b'passive'",
     "output_type": "error",
     "traceback": [
      "\u001b[0;31m---------------------------------------------------------------------------\u001b[0m",
      "\u001b[0;31mValueError\u001b[0m                                Traceback (most recent call last)",
      "\u001b[0;32m<ipython-input-46-9983a952a44f>\u001b[0m in \u001b[0;36m<module>\u001b[0;34m\u001b[0m\n\u001b[1;32m      2\u001b[0m \u001b[0mtask_status\u001b[0m \u001b[0;34m=\u001b[0m \u001b[0mzk\u001b[0m\u001b[0;34m.\u001b[0m\u001b[0mget_children\u001b[0m\u001b[0;34m(\u001b[0m\u001b[0;34mf'/rpc-root/tasks_start_time'\u001b[0m\u001b[0;34m)\u001b[0m  \u001b[0;31m# 获取当前任务上次开始时间点\u001b[0m\u001b[0;34m\u001b[0m\u001b[0;34m\u001b[0m\u001b[0m\n\u001b[1;32m      3\u001b[0m \u001b[0;32mfor\u001b[0m \u001b[0mone\u001b[0m \u001b[0;32min\u001b[0m \u001b[0mtask_status\u001b[0m\u001b[0;34m:\u001b[0m\u001b[0;34m\u001b[0m\u001b[0;34m\u001b[0m\u001b[0m\n\u001b[0;32m----> 4\u001b[0;31m     \u001b[0mprint\u001b[0m\u001b[0;34m(\u001b[0m\u001b[0;34mf\"{one} tasks_status : {time.strftime('%Y-%m-%d %H:%M', time.localtime(int(zk.get(f'/rpc-root/tasks_start_time/{one}')[0])))}\"\u001b[0m\u001b[0;34m)\u001b[0m\u001b[0;34m\u001b[0m\u001b[0;34m\u001b[0m\u001b[0m\n\u001b[0m\u001b[1;32m      5\u001b[0m \u001b[0;31m#     print(f\"{one} tasks_status : {zk.get(f'/rpc-root/tasks_start_time/{one}')[0]}\")\u001b[0m\u001b[0;34m\u001b[0m\u001b[0;34m\u001b[0m\u001b[0;34m\u001b[0m\u001b[0m\n",
      "\u001b[0;31mValueError\u001b[0m: invalid literal for int() with base 10: b'passive'"
     ]
    }
   ],
   "source": [
    "# 最后执行时间\n",
    "task_status = zk.get_children(f'/rpc-root/tasks_start_time')  # 获取当前任务上次开始时间点\n",
    "for one in task_status:\n",
    "    print(f\"{one} tasks_status : {time.strftime('%Y-%m-%d %H:%M', time.localtime(int(zk.get(f'/rpc-root/tasks_start_time/{one}')[0])))}\")\n",
    "#     print(f\"{one} tasks_status : {zk.get(f'/rpc-root/tasks_start_time/{one}')[0]}\")"
   ]
  },
  {
   "cell_type": "code",
   "execution_count": 6,
   "metadata": {},
   "outputs": [
    {
     "name": "stdout",
     "output_type": "stream",
     "text": [
      "['executed_person', 'hubei_qca', 'tianjin_qca', 'xinjiang_qca', 'liaoning_qca', 'hainan_qca', 'builder_phone_js', 'guizhou_qca', 'shanxishan_qca', 'jiangsu_safe', 'henan_qca', 'break_faith_info', 'shanxijin_qca', 'gansu_qca', 'chihu_company_detail', 'sqw_company_reboot', 'hebei_qca', 'anhui_qca', 'ningxia_qca', 'wechat_4k1_reboot', 'builder_phone_sc', 'personnel_certificate_reboot', 'yunnan_qca', 'fujian_qca', 'beijing_qca', 'sichuan_qca', 'jiangsu_qca', 'country_web_company_cookie', 'chihu_reboot', 'shanghai_qca', 'country_web_company', 'neimenggu_qca', 'company_code', 'wechat_4k1_online_reboot', 'hunan_qca', 'shandong_qca', 'jiangxi_qca', 'weight_province_industry', 'heilongjiang_qca', 'company_mapping_reboot', 'registrar_4k1_reboot', 'guangxi_qca', 'zhejiang_qca', 'country_web_master', 'country_company', 'xizang_qca', 'jilin_qca', 'monitor_qca_reboot', 'qinghai_qca', 'chongqing_qca', 'guangdong_qca']\n",
      "executed_person  : b'alive'\n",
      "hubei_qca  : b'died'\n",
      "tianjin_qca  : b'died'\n",
      "xinjiang_qca  : b'died'\n",
      "liaoning_qca  : b'died'\n",
      "hainan_qca  : b'died'\n",
      "builder_phone_js  : b'died'\n",
      "guizhou_qca  : b'died'\n",
      "shanxishan_qca  : b'died'\n",
      "jiangsu_safe  : b'alive'\n",
      "henan_qca  : b'died'\n",
      "break_faith_info  : b'alive'\n",
      "shanxijin_qca  : b'died'\n",
      "gansu_qca  : b'died'\n",
      "chihu_company_detail  : b'died'\n",
      "sqw_company_reboot  : b'alive'\n",
      "hebei_qca  : b'died'\n",
      "anhui_qca  : b'died'\n",
      "ningxia_qca  : b'died'\n",
      "wechat_4k1_reboot  : b'died'\n",
      "builder_phone_sc  : b'died'\n",
      "personnel_certificate_reboot  : b'died'\n",
      "yunnan_qca  : b'died'\n",
      "fujian_qca  : b'died'\n",
      "beijing_qca  : b'died'\n",
      "sichuan_qca  : b'died'\n",
      "jiangsu_qca  : b'died'\n",
      "country_web_company_cookie  : b'died'\n",
      "chihu_reboot  : b'alive'\n",
      "shanghai_qca  : b'died'\n",
      "country_web_company  : b'alive'\n",
      "neimenggu_qca  : b'died'\n",
      "company_code  : b'alive'\n",
      "wechat_4k1_online_reboot  : b'died'\n",
      "hunan_qca  : b'died'\n",
      "shandong_qca  : b'died'\n",
      "jiangxi_qca  : b'died'\n",
      "weight_province_industry  : b'alive'\n",
      "heilongjiang_qca  : b'died'\n",
      "company_mapping_reboot  : b'alive'\n",
      "registrar_4k1_reboot  : b'alive'\n",
      "guangxi_qca  : b'died'\n",
      "zhejiang_qca  : b'died'\n",
      "country_web_master  : b'alive'\n",
      "country_company  : b'alive'\n",
      "xizang_qca  : b'died'\n",
      "jilin_qca  : b'died'\n",
      "monitor_qca_reboot  : b'died'\n",
      "qinghai_qca  : b'died'\n",
      "chongqing_qca  : b'alive'\n",
      "guangdong_qca  : b'died'\n"
     ]
    }
   ],
   "source": [
    "host_list = zk.get_children(f\"/rpc-root/reboot\")\n",
    "print(host_list)\n",
    "for host in host_list:\n",
    "#     if zk.get(f\"/rpc-root/reboot/{host}\")[0] in (b'alive', ):\n",
    "    print(f'{host}  : {zk.get(f\"/rpc-root/reboot/{host}\")[0]}')"
   ]
  },
  {
   "cell_type": "code",
   "execution_count": 10,
   "metadata": {},
   "outputs": [
    {
     "data": {
      "text/plain": [
       "True"
      ]
     },
     "execution_count": 10,
     "metadata": {},
     "output_type": "execute_result"
    }
   ],
   "source": [
    "zk.delete(f\"/rpc-root/reboot/x\")"
   ]
  },
  {
   "cell_type": "code",
   "execution_count": null,
   "metadata": {},
   "outputs": [],
   "source": []
  }
 ],
 "metadata": {
  "kernelspec": {
   "display_name": "Python 3",
   "language": "python",
   "name": "python3"
  },
  "language_info": {
   "codemirror_mode": {
    "name": "ipython",
    "version": 3
   },
   "file_extension": ".py",
   "mimetype": "text/x-python",
   "name": "python",
   "nbconvert_exporter": "python",
   "pygments_lexer": "ipython3",
   "version": "3.8.3"
  }
 },
 "nbformat": 4,
 "nbformat_minor": 4
}
