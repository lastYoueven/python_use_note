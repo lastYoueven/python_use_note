{
 "cells": [
  {
   "cell_type": "code",
   "execution_count": 4,
   "metadata": {},
   "outputs": [],
   "source": [
    "from kazoo.client import KazooClient\n",
    "zk = KazooClient(hosts='47.103.21.215:2181', timeout=2.0)\n",
    "zk.start()"
   ]
  },
  {
   "cell_type": "code",
   "execution_count": 5,
   "metadata": {},
   "outputs": [
    {
     "name": "stdout",
     "output_type": "stream",
     "text": [
      "['reboot', 'host', 'reboot_status', 'reboot_conf_status', 'tasks_start_time', 'tasks_name']\n"
     ]
    },
    {
     "name": "stderr",
     "output_type": "stream",
     "text": [
      "Connection dropped: outstanding heartbeat ping not received\n",
      "Transition to CONNECTING\n",
      "Connection dropped: outstanding heartbeat ping not received\n",
      "Transition to CONNECTING\n",
      "Connection dropped: outstanding heartbeat ping not received\n",
      "Transition to CONNECTING\n"
     ]
    }
   ],
   "source": [
    "print(zk.get_children('/rpc-root'))"
   ]
  },
  {
   "cell_type": "code",
   "execution_count": null,
   "metadata": {},
   "outputs": [],
   "source": []
  }
 ],
 "metadata": {
  "kernelspec": {
   "display_name": "Python 3",
   "language": "python",
   "name": "python3"
  },
  "language_info": {
   "codemirror_mode": {
    "name": "ipython",
    "version": 3
   },
   "file_extension": ".py",
   "mimetype": "text/x-python",
   "name": "python",
   "nbconvert_exporter": "python",
   "pygments_lexer": "ipython3",
   "version": "3.8.3"
  }
 },
 "nbformat": 4,
 "nbformat_minor": 4
}
